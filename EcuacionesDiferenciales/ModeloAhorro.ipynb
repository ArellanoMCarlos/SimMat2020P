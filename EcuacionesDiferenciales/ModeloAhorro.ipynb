{
 "cells": [
  {
   "cell_type": "markdown",
   "metadata": {},
   "source": [
    "# Modelo del rendimiento de una cuenta de ahorro\n",
    "\n",
    "<img style=\"center\" src=\"https://static.pexels.com/photos/9660/business-money-pink-coins.jpg\" width=\"500px\" height=\"200px\" alt=\"atom\"/>\n",
    "\n",
    "> **¿Tiene el dinero el mismo valor a lo largo del tiempo?** La respuesta es *no*. Todos lo hemos vivido. \n",
    "\n",
    "> Dos situaciones básicas:\n",
    "1. <font color=blue>Inflación</font>: ¿Cuánto dinero necesitabas para comprar unas papas y un refresco hace 10 años? ¿Cuánto necesitas hoy?\n",
    "2. <font color=blue>Interés</font>: no es lo mismo tener $\\$10000$ MXN disponibles hoy a recibir $\\$10000$ MXN en un año, pues los primeros pueden ser invertidos en un negocio o una cuenta bancaria para generar **interés**. Por lo tanto los $\\$10000$ MXN disponibles hoy valen más que los $\\$10000$ MXN que se recibirán en un año.\n",
    "\n",
    "Referencia:\n",
    "- Vidaurri Aguirre, Héctor Manuel. *Ingeniería económica básica*, ISBN: 978-607-519-017-4. (Disponible en biblioteca)"
   ]
  },
  {
   "cell_type": "markdown",
   "metadata": {},
   "source": [
    "Referencias:\n",
    "- http://www.sympy.org\n",
    "- http://matplotlib.org\n",
    "- http://www.numpy.org\n",
    "- http://ipywidgets.readthedocs.io/en/latest/index.html"
   ]
  },
  {
   "cell_type": "markdown",
   "metadata": {},
   "source": [
    "___\n",
    "## Interés\n",
    "Nos centraremos en como cambia el valor del dinero en el tiempo debido al **interés**. Existen dos tipos:"
   ]
  },
  {
   "cell_type": "markdown",
   "metadata": {},
   "source": [
    "### Capitalización por interés simple\n",
    "Este tipo de interés se calcula <font color=red>única y exclusivamente sobre la cantidad original que se invirtió</font>. Como consecuencia, el interés generado no forma parte del dinero que se invierte, es decir, los <font color=blue>intereses no ganan intereses</font>.\n",
    "\n",
    "Suponga que se tiene un capital inicial $C_0$ y se invierte a un plazo de $k$ periodos (pueden ser meses, trimestres, semestres, años...) a una tasa de **interés simple** por periodo $i$. Al final del primer periodo, el capital $C_1$ que se obtiene es:\n",
    "\n",
    "$$C_1=C_0+iC_0=C_0(1+i).$$\n",
    "\n",
    "De la misma manera, como el interés solo se calcula sobre el capital inicial, al final del segundo periodo, el capital $C_2$ que se obtiene es:\n",
    "\n",
    "$$C_2=C_1+iC_0=C_0+iC_0+iC_0=C_0(1+2i).$$\n",
    "\n",
    "Así, al final del $k-$ésimo periodo, el capital $C_k$ que se obtiene es:\n",
    "\n",
    "$$C_k=C_{k-1}+iC_0=C_0+kiC_0=C_0(1+ki).$$"
   ]
  },
  {
   "cell_type": "markdown",
   "metadata": {},
   "source": [
    "> **Ejemplo.** Suponga que se tiene un capital de $\\$10000$ MXN, el cual se pone en un fondo de inversión que paga una tasa de interés simple del $0.8\\%$ mensual. \n",
    "\n",
    "> Si se tiene una meta de ahorro de $\\$11000$ MXN sin inversiones adicionales, ¿cuántos meses se debería dejar invertido el dinero?"
   ]
  },
  {
   "cell_type": "code",
   "execution_count": 6,
   "metadata": {},
   "outputs": [],
   "source": [
    "import numpy as np"
   ]
  },
  {
   "cell_type": "code",
   "execution_count": 14,
   "metadata": {},
   "outputs": [
    {
     "name": "stdout",
     "output_type": "stream",
     "text": [
      "El número de periodos necesarios para obtener al menos 11,000 MXN son 13, que genera un capital de 11040.0 MXN.\n"
     ]
    }
   ],
   "source": [
    "Ck=11000\n",
    "C0=10000\n",
    "i=0.008\n",
    "\n",
    "# Despejamos k\n",
    "k=np.ceil((Ck/C0-1)/i).astype(int)\n",
    "C=round(C0*(1+k*i),2)\n",
    "print(\"El número de periodos necesarios para obtener al menos 11,000 MXN son \",k,\n",
    "      \", que genera un capital de \",C, \" MXN.\",sep='')"
   ]
  },
  {
   "cell_type": "markdown",
   "metadata": {},
   "source": [
    "> <font color=blue>**Actividad.**</font>\n",
    "1. ¿Qué pasa si el interés no es del $0.8\\%$ mensual sino del $1\\%$ mensual?\n",
    "2. ¿Qué pasa si la meta no son $\\$11000$ MXN si no $\\$12000$ MXN?"
   ]
  },
  {
   "cell_type": "code",
   "execution_count": null,
   "metadata": {},
   "outputs": [],
   "source": []
  },
  {
   "cell_type": "markdown",
   "metadata": {},
   "source": [
    "> Una gráfica que nos permite ilustrar la situación anterior se puede realizar de la siguiente manera."
   ]
  },
  {
   "cell_type": "code",
   "execution_count": 16,
   "metadata": {},
   "outputs": [],
   "source": [
    "import matplotlib.pyplot as plt\n",
    "from ipywidgets import *\n",
    "%matplotlib inline"
   ]
  },
  {
   "cell_type": "code",
   "execution_count": 17,
   "metadata": {},
   "outputs": [
    {
     "name": "stdout",
     "output_type": "stream",
     "text": [
      "Help on _InteractFactory in module ipywidgets.widgets.interaction object:\n",
      "\n",
      "class _InteractFactory(builtins.object)\n",
      " |  _InteractFactory(cls, options, kwargs={})\n",
      " |  \n",
      " |  Factory for instances of :class:`interactive`.\n",
      " |  \n",
      " |  This class is needed to support options like::\n",
      " |  \n",
      " |      >>> @interact.options(manual=True)\n",
      " |      ... def greeting(text=\"World\"):\n",
      " |      ...     print(\"Hello {}\".format(text))\n",
      " |  \n",
      " |  Parameters\n",
      " |  ----------\n",
      " |  cls : class\n",
      " |      The subclass of :class:`interactive` to construct.\n",
      " |  options : dict\n",
      " |      A dict of options used to construct the interactive\n",
      " |      function. By default, this is returned by\n",
      " |      ``cls.default_options()``.\n",
      " |  kwargs : dict\n",
      " |      A dict of **kwargs to use for widgets.\n",
      " |  \n",
      " |  Methods defined here:\n",
      " |  \n",
      " |  __call__(self, _InteractFactory__interact_f=None, **kwargs)\n",
      " |      Make the given function interactive by adding and displaying\n",
      " |      the corresponding :class:`interactive` widget.\n",
      " |      \n",
      " |      Expects the first argument to be a function. Parameters to this\n",
      " |      function are widget abbreviations passed in as keyword arguments\n",
      " |      (``**kwargs``). Can be used as a decorator (see examples).\n",
      " |      \n",
      " |      Returns\n",
      " |      -------\n",
      " |      f : __interact_f with interactive widget attached to it.\n",
      " |      \n",
      " |      Parameters\n",
      " |      ----------\n",
      " |      __interact_f : function\n",
      " |          The function to which the interactive widgets are tied. The `**kwargs`\n",
      " |          should match the function signature. Passed to :func:`interactive()`\n",
      " |      **kwargs : various, optional\n",
      " |          An interactive widget is created for each keyword argument that is a\n",
      " |          valid widget abbreviation. Passed to :func:`interactive()`\n",
      " |      \n",
      " |      Examples\n",
      " |      --------\n",
      " |      Render an interactive text field that shows the greeting with the passed in\n",
      " |      text::\n",
      " |      \n",
      " |          # 1. Using interact as a function\n",
      " |          def greeting(text=\"World\"):\n",
      " |              print(\"Hello {}\".format(text))\n",
      " |          interact(greeting, text=\"IPython Widgets\")\n",
      " |      \n",
      " |          # 2. Using interact as a decorator\n",
      " |          @interact\n",
      " |          def greeting(text=\"World\"):\n",
      " |              print(\"Hello {}\".format(text))\n",
      " |      \n",
      " |          # 3. Using interact as a decorator with named parameters\n",
      " |          @interact(text=\"IPython Widgets\")\n",
      " |          def greeting(text=\"World\"):\n",
      " |              print(\"Hello {}\".format(text))\n",
      " |      \n",
      " |      Render an interactive slider widget and prints square of number::\n",
      " |      \n",
      " |          # 1. Using interact as a function\n",
      " |          def square(num=1):\n",
      " |              print(\"{} squared is {}\".format(num, num*num))\n",
      " |          interact(square, num=5)\n",
      " |      \n",
      " |          # 2. Using interact as a decorator\n",
      " |          @interact\n",
      " |          def square(num=2):\n",
      " |              print(\"{} squared is {}\".format(num, num*num))\n",
      " |      \n",
      " |          # 3. Using interact as a decorator with named parameters\n",
      " |          @interact(num=5)\n",
      " |          def square(num=2):\n",
      " |              print(\"{} squared is {}\".format(num, num*num))\n",
      " |  \n",
      " |  __init__(self, cls, options, kwargs={})\n",
      " |      Initialize self.  See help(type(self)) for accurate signature.\n",
      " |  \n",
      " |  options(self, **kwds)\n",
      " |      Change options for interactive functions.\n",
      " |      \n",
      " |      Returns\n",
      " |      -------\n",
      " |      A new :class:`_InteractFactory` which will apply the\n",
      " |      options when called.\n",
      " |  \n",
      " |  widget(self, f)\n",
      " |      Return an interactive function widget for the given function.\n",
      " |      \n",
      " |      The widget is only constructed, not displayed nor attached to\n",
      " |      the function.\n",
      " |      \n",
      " |      Returns\n",
      " |      -------\n",
      " |      An instance of ``self.cls`` (typically :class:`interactive`).\n",
      " |      \n",
      " |      Parameters\n",
      " |      ----------\n",
      " |      f : function\n",
      " |          The function to which the interactive widgets are tied.\n",
      " |  \n",
      " |  ----------------------------------------------------------------------\n",
      " |  Data descriptors defined here:\n",
      " |  \n",
      " |  __dict__\n",
      " |      dictionary for instance variables (if defined)\n",
      " |  \n",
      " |  __weakref__\n",
      " |      list of weak references to the object (if defined)\n",
      "\n"
     ]
    }
   ],
   "source": [
    "help(interact)"
   ]
  },
  {
   "cell_type": "code",
   "execution_count": 14,
   "metadata": {},
   "outputs": [
    {
     "data": {
      "application/vnd.jupyter.widget-view+json": {
       "model_id": "131afb183fb84b2b958cb913bbe404f6",
       "version_major": 2,
       "version_minor": 0
      },
      "text/plain": [
       "interactive(children=(IntSlider(value=11000, description='Ck', max=12000, min=10000, step=100), Output()), _do…"
      ]
     },
     "metadata": {},
     "output_type": "display_data"
    },
    {
     "data": {
      "text/plain": [
       "<function __main__.interes_simple(Ck, C0, i)>"
      ]
     },
     "execution_count": 14,
     "metadata": {},
     "output_type": "execute_result"
    }
   ],
   "source": [
    "def interes_simple(Ck,C0,i):\n",
    "    # Despejamos k\n",
    "    k=np.ceil((Ck/C0-1)/i).astype(int)\n",
    "    C=round(C0*(1+k*i),2) # Obtenemos el capital al periodo k\n",
    "    \n",
    "    # Vectores para graficar\n",
    "    k_=np.linspace(0,k,k+1)\n",
    "    C_=C0*(1+k_*i)\n",
    "    plt.figure(num=1)         # Que lo interprete siempre como la figura 1\n",
    "    plt.clf()                 # Para borrar el gráfico\n",
    "    plt.plot(k_,C_,'o',ms=10)\n",
    "    plt.plot(k_,Ck*np.ones(k+1),'k--')\n",
    "    plt.xlabel('$k$ Periodos')\n",
    "    plt.ylabel('$C_k$ Capital')\n",
    "    plt.grid()\n",
    "    plt.show()                 # Que muestre el gráfico\n",
    "    \n",
    "interact(interes_simple,Ck=(10000,12000,100),C0=fixed(10000),i=fixed(0.008))\n",
    "#interact(interes_simple,Ck=(10000,12000,100),C0=fixed(10000),i=fixed(0.008))"
   ]
  },
  {
   "cell_type": "markdown",
   "metadata": {},
   "source": [
    "Como se esperaba, el capital en el $k-$ésimo periodo $C_k=C_0(1+ki)$ crece linealmente con $k$."
   ]
  },
  {
   "cell_type": "markdown",
   "metadata": {},
   "source": [
    "### Capitalización por interés compuesto\n",
    "El capital que genera el interés simple permanece constante todo el tiempo de duración de la inversión. En cambio, el que produce el interés compuesto en un periodo se <font color=red>convierte en capital en el siguiente periodo</font>. Esto es, el interés generado al final de un periodo <font color=blue>se reinvierte para el siguiente periodo para también producir interés</font>.\n",
    "\n",
    "Suponga que se tiene un capital inicial $C_0$, y se va a ceder el uso de este capital por un periodo de tiempo determinado a una tasa de interés $i$. El capital que se obtiene al final del primer periodo $C_1$ se puede calcular por\n",
    "\n",
    "$$C_1=C_0(1+i).$$ \n",
    "\n",
    "Si la anterior suma se vuelve a ceder a la misma tasa de interés, al final del periodo dos el capital $C_2$ es \n",
    "\n",
    "$$C_2=C_1(1+i)=C_0(1+i)^2.$$\n",
    "\n",
    "Si se repite el anterior proceso $k$ veces, el capital al final del $k-$ésimo periodo $C_k$ es \n",
    "\n",
    "$$C_k=C_{k-1}(1+i)=C_0(1+i)^k.$$\n",
    "\n",
    "**Referencia**:\n",
    "- https://es.wikipedia.org/wiki/Inter%C3%A9s_compuesto."
   ]
  },
  {
   "cell_type": "markdown",
   "metadata": {},
   "source": [
    "> **Ejemplo.** Suponga que se tiene un capital de $\\$10000$ MXN, el cual se pone en un fondo de inversión que paga una tasa de interés del $0.8\\%$ mensual. \n",
    "\n",
    "> Si se tiene una meta de ahorro de $\\$11000$ MXN sin inversiones adicionales, ¿cuántos meses se debería dejar invertido el dinero?"
   ]
  },
  {
   "cell_type": "code",
   "execution_count": 1,
   "metadata": {},
   "outputs": [],
   "source": [
    "import numpy as np\n",
    "import matplotlib.pyplot as plt\n",
    "%matplotlib inline"
   ]
  },
  {
   "cell_type": "code",
   "execution_count": 11,
   "metadata": {},
   "outputs": [
    {
     "name": "stdout",
     "output_type": "stream",
     "text": [
      "El número de periodos necesarios para llegar a la meta son 12 meses. El capital generado es 11003.39\n"
     ]
    }
   ],
   "source": [
    "# Para despejar k:\n",
    "# Despejo Ck/C0=(1+i)^k\n",
    "# Log(Ck/C0)=Log((1+i)^k)\n",
    "# Log(Ck/C0)=k*Log(1+i)\n",
    "# k=Log(Ck/C0)/Log(1+i)\n",
    "\n",
    "Ck=11000\n",
    "i=0.008 #0.8%\n",
    "C0=10000\n",
    "k=np.ceil(np.log(Ck/C0)/np.log(1+i)).astype(int)\n",
    "C=C0*(1+i)**k\n",
    "print(\"El número de periodos necesarios para llegar a la meta son \",k, \" meses. El capital generado es \", round(C,2), sep='')"
   ]
  },
  {
   "cell_type": "markdown",
   "metadata": {},
   "source": [
    "> Una gráfica que nos permite ilustrar la situación anterior se puede realizar de la siguiente manera."
   ]
  },
  {
   "cell_type": "code",
   "execution_count": 12,
   "metadata": {},
   "outputs": [],
   "source": [
    "from ipywidgets import *"
   ]
  },
  {
   "cell_type": "code",
   "execution_count": 18,
   "metadata": {},
   "outputs": [
    {
     "data": {
      "application/vnd.jupyter.widget-view+json": {
       "model_id": "36bcef7c69e346bb923b7980a4831761",
       "version_major": 2,
       "version_minor": 0
      },
      "text/plain": [
       "interactive(children=(IntSlider(value=15000, description='Ck', max=20000, min=10000, step=100), Output()), _do…"
      ]
     },
     "metadata": {},
     "output_type": "display_data"
    },
    {
     "data": {
      "text/plain": [
       "<function __main__.interes_compuesto(Ck, C0, i)>"
      ]
     },
     "execution_count": 18,
     "metadata": {},
     "output_type": "execute_result"
    }
   ],
   "source": [
    "def interes_compuesto(Ck,C0,i):\n",
    "    # Despejamos k\n",
    "    k=np.ceil(np.log(Ck/C0)/np.log(1+i)).astype(int)\n",
    "    C=round(C0*(1+i)**k,2) # Obtenemos el capital al periodo k\n",
    "    \n",
    "    # Vectores para graficar\n",
    "    k_=np.linspace(0,k,k+1)\n",
    "    C_=C0*(1+i)**k_\n",
    "    print(\"El número de periodos necesarios es \", k, \". El capital alcanzado es de \", C, \".\", sep='')\n",
    "    plt.figure(num=1)         # Que lo interprete siempre como la figura 1\n",
    "    plt.clf()                 # Para borrar el gráfico\n",
    "    plt.plot(k_,C_,'o',ms=10)\n",
    "    plt.plot(k_,Ck*np.ones(k+1),'k--')\n",
    "    plt.xlabel('$k$ Periodos')\n",
    "    plt.ylabel('$C_k$ Capital')\n",
    "    plt.grid()\n",
    "    plt.show()                 # Que muestre el gráfico\n",
    "    \n",
    "interact(interes_compuesto,Ck=(10000,20000,100),C0=fixed(10000),i=fixed(0.008))"
   ]
  },
  {
   "cell_type": "markdown",
   "metadata": {},
   "source": [
    "El capital en el $k-$ésimo periodo $C_k=C_0(1+i)^k$ crece de manera exponencial con $k$."
   ]
  },
  {
   "cell_type": "markdown",
   "metadata": {},
   "source": [
    "> <font color=blue>**Actividad.**</font>\n",
    "> - Modificar el código anterior para dejar fija la meta de ahorro y variar la tasa de interés compuesta."
   ]
  },
  {
   "cell_type": "code",
   "execution_count": null,
   "metadata": {},
   "outputs": [],
   "source": []
  },
  {
   "cell_type": "markdown",
   "metadata": {},
   "source": [
    "### Capitalización continua de intereses\n",
    "La capitalización continua se considera un tipo de capitalización compuesta, en la que a cada instante de tiempo $t$ se capitalizan los intereses. Es decir, la frecuencia de capitalización es infinita (o, equivalentemente, el periodo de capitalización tiende a cero).\n",
    "\n",
    "Suponga que se tiene un capital inicial $C_0$, y que el capital acumulado en el tiempo $t$ es $C(t)$. Queremos saber cuanto será el capital pasado un periodo de tiempo $\\Delta t$, dado que la tasa de interés efectiva para este periodo de tiempo es $i$. De acuerdo a lo anterior tenemos\n",
    "\n",
    "$$C(t+\\Delta t)=C(t)(1+i)=C(t)(1+r\\Delta t),$$\n",
    "\n",
    "donde $r=\\frac{i}{\\Delta t}$ es la tasa de interés instantánea. Manipulando la anterior expresión, obtenemos\n",
    "\n",
    "$$\\frac{C(t+\\Delta t)-C(t)}{\\Delta t}=r\\; C(t).$$\n",
    "\n",
    "Haciendo $\\Delta t\\to 0$, obtenemos la siguiente ecuación diferencial \n",
    "\n",
    "$$\\frac{d C(t)}{dt}=r\\; C(t),$$\n",
    "\n",
    "sujeta a la condición inicial (monto o capital inicial) $C(0)=C_0$.\n",
    "\n",
    "La anterior, es una ecuación diferencial lineal de primer orden, para la cual se puede calcular la *solución analítica*."
   ]
  },
  {
   "cell_type": "markdown",
   "metadata": {},
   "source": [
    "$$C(t) = C_0e^{rt}$$\n",
    "\n",
    "La equivalencia entre la tasa de interés compuesta $i$ y la tasa de interés instantánea $r$ viene dada por\n",
    "\n",
    "$$e^r=1+i.$$"
   ]
  },
  {
   "cell_type": "markdown",
   "metadata": {},
   "source": [
    "___\n",
    "¿Cómo podemos calcular la *solución numérica*?"
   ]
  },
  {
   "cell_type": "markdown",
   "metadata": {},
   "source": [
    "> **Ejemplo.** Suponga que se tiene un capital de $\\$10000$ MXN, el cual se pone en un fondo de inversión que paga una tasa de interés del $0.8\\%$ mensual. \n",
    "\n",
    "> Si se tiene una meta de ahorro de $\\$11000$ MXN sin inversiones adicionales, ¿cuánto tiempo se debe dejar invertido el dinero?\n",
    "\n",
    "> Muestre una gráfica que ilustre la situación."
   ]
  },
  {
   "cell_type": "code",
   "execution_count": 20,
   "metadata": {},
   "outputs": [
    {
     "data": {
      "application/vnd.jupyter.widget-view+json": {
       "model_id": "acb426c3e10944f888dc035167208759",
       "version_major": 2,
       "version_minor": 0
      },
      "text/plain": [
       "interactive(children=(IntSlider(value=11000, description='Ck', max=12000, min=10000, step=100), Output()), _do…"
      ]
     },
     "metadata": {},
     "output_type": "display_data"
    },
    {
     "data": {
      "text/plain": [
       "<function __main__.interes_CC(Ck, C0, r)>"
      ]
     },
     "execution_count": 20,
     "metadata": {},
     "output_type": "execute_result"
    }
   ],
   "source": [
    "# Despejando r: exp(r)=1+i\n",
    "# log(exp(r))=log(1+i)\n",
    "# r=log(1+i)\n",
    "\n",
    "# Despejando t: Ck=C0*exp(r*t)\n",
    "# Ck/C0=exp(r*t)\n",
    "# log(Ck/C0)=r*t\n",
    "# log(Ck/C0)/r=t\n",
    "def interes_CC(Ck,C0,r):\n",
    "    t=np.log(Ck/C0)/r\n",
    "    C=C0*np.exp(r*t)\n",
    "    t_=np.linspace(0,t,100)\n",
    "    C_=C0*np.exp(r*t_)\n",
    "    print(\"El tiempo necesario es \", t, \". El capital alcanzado es de \", C, \".\", sep='')\n",
    "    plt.figure(num=1)         # Que lo interprete siempre como la figura 1\n",
    "    plt.clf()                 # Para borrar el gráfico\n",
    "    plt.plot(t_,C_)\n",
    "    plt.plot(t_,Ck*np.ones(100),'k--')\n",
    "    plt.xlabel('$t$ tiempo')\n",
    "    plt.ylabel('$C(t)$ Capital')\n",
    "    plt.grid()\n",
    "    plt.show()                 # Que muestre el gráfico\n",
    "    \n",
    "interact(interes_CC,Ck=(10000,12000,100),C0=fixed(10000),r=fixed(np.log(1+0.008)))"
   ]
  },
  {
   "cell_type": "markdown",
   "metadata": {},
   "source": [
    "___\n",
    "## Tabla de abonos\n",
    "Como aplicación importante del concepto de interés compuesto se encuentra la creación de un modelo de cuenta de ahorro.\n",
    "\n",
    "Referencia:\n",
    "- Vidaurri Aguirre, Héctor Manuel. *Ingeniería económica básica*, ISBN: 978-607-519-017-4. (Disponible en biblioteca)\n",
    "- http://pbpython.com/amortization-model.html\n",
    "- https://pbpython.com/amortization-model-revised.html"
   ]
  },
  {
   "cell_type": "code",
   "execution_count": 22,
   "metadata": {},
   "outputs": [],
   "source": [
    "import pandas as pd"
   ]
  },
  {
   "cell_type": "code",
   "execution_count": 21,
   "metadata": {},
   "outputs": [],
   "source": [
    "Ck=80000\n",
    "k=3*12\n",
    "C0=1000\n",
    "i=0.005 # Anual"
   ]
  },
  {
   "cell_type": "code",
   "execution_count": 24,
   "metadata": {},
   "outputs": [],
   "source": [
    "np.pmt?"
   ]
  },
  {
   "cell_type": "code",
   "execution_count": 25,
   "metadata": {},
   "outputs": [
    {
     "data": {
      "text/plain": [
       "2211.4010590710977"
      ]
     },
     "execution_count": 25,
     "metadata": {},
     "output_type": "execute_result"
    }
   ],
   "source": [
    "Abono=-np.pmt(i/12,k,Ck-C0)\n",
    "Abono"
   ]
  },
  {
   "cell_type": "code",
   "execution_count": 26,
   "metadata": {},
   "outputs": [],
   "source": [
    "pd.date_range?"
   ]
  },
  {
   "cell_type": "code",
   "execution_count": 27,
   "metadata": {},
   "outputs": [],
   "source": [
    "fecha_inicial='2020-05-07'\n",
    "rango=pd.date_range(fecha_inicial,periods=k,freq='M')"
   ]
  },
  {
   "cell_type": "code",
   "execution_count": 35,
   "metadata": {},
   "outputs": [
    {
     "data": {
      "text/html": [
       "<div>\n",
       "<style scoped>\n",
       "    .dataframe tbody tr th:only-of-type {\n",
       "        vertical-align: middle;\n",
       "    }\n",
       "\n",
       "    .dataframe tbody tr th {\n",
       "        vertical-align: top;\n",
       "    }\n",
       "\n",
       "    .dataframe thead th {\n",
       "        text-align: right;\n",
       "    }\n",
       "</style>\n",
       "<table border=\"1\" class=\"dataframe\">\n",
       "  <thead>\n",
       "    <tr style=\"text-align: right;\">\n",
       "      <th></th>\n",
       "      <th>Abonos</th>\n",
       "      <th>Balance</th>\n",
       "    </tr>\n",
       "  </thead>\n",
       "  <tbody>\n",
       "    <tr>\n",
       "      <th>2020-05-31</th>\n",
       "      <td>2211.401059</td>\n",
       "      <td>3211.817726</td>\n",
       "    </tr>\n",
       "    <tr>\n",
       "      <th>2020-06-30</th>\n",
       "      <td>2211.401059</td>\n",
       "      <td>5424.557042</td>\n",
       "    </tr>\n",
       "    <tr>\n",
       "      <th>2020-07-31</th>\n",
       "      <td>2211.401059</td>\n",
       "      <td>7638.218333</td>\n",
       "    </tr>\n",
       "    <tr>\n",
       "      <th>2020-08-31</th>\n",
       "      <td>2211.401059</td>\n",
       "      <td>9852.801983</td>\n",
       "    </tr>\n",
       "    <tr>\n",
       "      <th>2020-09-30</th>\n",
       "      <td>2211.401059</td>\n",
       "      <td>12068.308377</td>\n",
       "    </tr>\n",
       "    <tr>\n",
       "      <th>2020-10-31</th>\n",
       "      <td>2211.401059</td>\n",
       "      <td>14284.737898</td>\n",
       "    </tr>\n",
       "    <tr>\n",
       "      <th>2020-11-30</th>\n",
       "      <td>2211.401059</td>\n",
       "      <td>16502.090931</td>\n",
       "    </tr>\n",
       "    <tr>\n",
       "      <th>2020-12-31</th>\n",
       "      <td>2211.401059</td>\n",
       "      <td>18720.367861</td>\n",
       "    </tr>\n",
       "    <tr>\n",
       "      <th>2021-01-31</th>\n",
       "      <td>2211.401059</td>\n",
       "      <td>20939.569073</td>\n",
       "    </tr>\n",
       "    <tr>\n",
       "      <th>2021-02-28</th>\n",
       "      <td>2211.401059</td>\n",
       "      <td>23159.694953</td>\n",
       "    </tr>\n",
       "    <tr>\n",
       "      <th>2021-03-31</th>\n",
       "      <td>2211.401059</td>\n",
       "      <td>25380.745885</td>\n",
       "    </tr>\n",
       "    <tr>\n",
       "      <th>2021-04-30</th>\n",
       "      <td>2211.401059</td>\n",
       "      <td>27602.722255</td>\n",
       "    </tr>\n",
       "    <tr>\n",
       "      <th>2021-05-31</th>\n",
       "      <td>2211.401059</td>\n",
       "      <td>29825.624448</td>\n",
       "    </tr>\n",
       "    <tr>\n",
       "      <th>2021-06-30</th>\n",
       "      <td>2211.401059</td>\n",
       "      <td>32049.452851</td>\n",
       "    </tr>\n",
       "    <tr>\n",
       "      <th>2021-07-31</th>\n",
       "      <td>2211.401059</td>\n",
       "      <td>34274.207848</td>\n",
       "    </tr>\n",
       "    <tr>\n",
       "      <th>2021-08-31</th>\n",
       "      <td>2211.401059</td>\n",
       "      <td>36499.889827</td>\n",
       "    </tr>\n",
       "    <tr>\n",
       "      <th>2021-09-30</th>\n",
       "      <td>2211.401059</td>\n",
       "      <td>38726.499174</td>\n",
       "    </tr>\n",
       "    <tr>\n",
       "      <th>2021-10-31</th>\n",
       "      <td>2211.401059</td>\n",
       "      <td>40954.036274</td>\n",
       "    </tr>\n",
       "    <tr>\n",
       "      <th>2021-11-30</th>\n",
       "      <td>2211.401059</td>\n",
       "      <td>43182.501515</td>\n",
       "    </tr>\n",
       "    <tr>\n",
       "      <th>2021-12-31</th>\n",
       "      <td>2211.401059</td>\n",
       "      <td>45411.895283</td>\n",
       "    </tr>\n",
       "    <tr>\n",
       "      <th>2022-01-31</th>\n",
       "      <td>2211.401059</td>\n",
       "      <td>47642.217965</td>\n",
       "    </tr>\n",
       "    <tr>\n",
       "      <th>2022-02-28</th>\n",
       "      <td>2211.401059</td>\n",
       "      <td>49873.469949</td>\n",
       "    </tr>\n",
       "    <tr>\n",
       "      <th>2022-03-31</th>\n",
       "      <td>2211.401059</td>\n",
       "      <td>52105.651620</td>\n",
       "    </tr>\n",
       "    <tr>\n",
       "      <th>2022-04-30</th>\n",
       "      <td>2211.401059</td>\n",
       "      <td>54338.763367</td>\n",
       "    </tr>\n",
       "    <tr>\n",
       "      <th>2022-05-31</th>\n",
       "      <td>2211.401059</td>\n",
       "      <td>56572.805578</td>\n",
       "    </tr>\n",
       "    <tr>\n",
       "      <th>2022-06-30</th>\n",
       "      <td>2211.401059</td>\n",
       "      <td>58807.778639</td>\n",
       "    </tr>\n",
       "    <tr>\n",
       "      <th>2022-07-31</th>\n",
       "      <td>2211.401059</td>\n",
       "      <td>61043.682939</td>\n",
       "    </tr>\n",
       "    <tr>\n",
       "      <th>2022-08-31</th>\n",
       "      <td>2211.401059</td>\n",
       "      <td>63280.518866</td>\n",
       "    </tr>\n",
       "    <tr>\n",
       "      <th>2022-09-30</th>\n",
       "      <td>2211.401059</td>\n",
       "      <td>65518.286808</td>\n",
       "    </tr>\n",
       "    <tr>\n",
       "      <th>2022-10-31</th>\n",
       "      <td>2211.401059</td>\n",
       "      <td>67756.987154</td>\n",
       "    </tr>\n",
       "    <tr>\n",
       "      <th>2022-11-30</th>\n",
       "      <td>2211.401059</td>\n",
       "      <td>69996.620291</td>\n",
       "    </tr>\n",
       "    <tr>\n",
       "      <th>2022-12-31</th>\n",
       "      <td>2211.401059</td>\n",
       "      <td>72237.186608</td>\n",
       "    </tr>\n",
       "    <tr>\n",
       "      <th>2023-01-31</th>\n",
       "      <td>2211.401059</td>\n",
       "      <td>74478.686495</td>\n",
       "    </tr>\n",
       "    <tr>\n",
       "      <th>2023-02-28</th>\n",
       "      <td>2211.401059</td>\n",
       "      <td>76721.120340</td>\n",
       "    </tr>\n",
       "    <tr>\n",
       "      <th>2023-03-31</th>\n",
       "      <td>2211.401059</td>\n",
       "      <td>78964.488533</td>\n",
       "    </tr>\n",
       "    <tr>\n",
       "      <th>2023-04-30</th>\n",
       "      <td>2211.401059</td>\n",
       "      <td>81208.791462</td>\n",
       "    </tr>\n",
       "  </tbody>\n",
       "</table>\n",
       "</div>"
      ],
      "text/plain": [
       "                 Abonos       Balance\n",
       "2020-05-31  2211.401059   3211.817726\n",
       "2020-06-30  2211.401059   5424.557042\n",
       "2020-07-31  2211.401059   7638.218333\n",
       "2020-08-31  2211.401059   9852.801983\n",
       "2020-09-30  2211.401059  12068.308377\n",
       "2020-10-31  2211.401059  14284.737898\n",
       "2020-11-30  2211.401059  16502.090931\n",
       "2020-12-31  2211.401059  18720.367861\n",
       "2021-01-31  2211.401059  20939.569073\n",
       "2021-02-28  2211.401059  23159.694953\n",
       "2021-03-31  2211.401059  25380.745885\n",
       "2021-04-30  2211.401059  27602.722255\n",
       "2021-05-31  2211.401059  29825.624448\n",
       "2021-06-30  2211.401059  32049.452851\n",
       "2021-07-31  2211.401059  34274.207848\n",
       "2021-08-31  2211.401059  36499.889827\n",
       "2021-09-30  2211.401059  38726.499174\n",
       "2021-10-31  2211.401059  40954.036274\n",
       "2021-11-30  2211.401059  43182.501515\n",
       "2021-12-31  2211.401059  45411.895283\n",
       "2022-01-31  2211.401059  47642.217965\n",
       "2022-02-28  2211.401059  49873.469949\n",
       "2022-03-31  2211.401059  52105.651620\n",
       "2022-04-30  2211.401059  54338.763367\n",
       "2022-05-31  2211.401059  56572.805578\n",
       "2022-06-30  2211.401059  58807.778639\n",
       "2022-07-31  2211.401059  61043.682939\n",
       "2022-08-31  2211.401059  63280.518866\n",
       "2022-09-30  2211.401059  65518.286808\n",
       "2022-10-31  2211.401059  67756.987154\n",
       "2022-11-30  2211.401059  69996.620291\n",
       "2022-12-31  2211.401059  72237.186608\n",
       "2023-01-31  2211.401059  74478.686495\n",
       "2023-02-28  2211.401059  76721.120340\n",
       "2023-03-31  2211.401059  78964.488533\n",
       "2023-04-30  2211.401059  81208.791462"
      ]
     },
     "execution_count": 35,
     "metadata": {},
     "output_type": "execute_result"
    }
   ],
   "source": [
    "# Balance=C0*(1+i/12)**k+Abono*(i/12)**(k-1)/i/12\n",
    "df=pd.DataFrame(index=rango,columns=['Abonos','Balance'])\n",
    "df['Abonos']=Abono\n",
    "k_=np.arange(1,k+1)\n",
    "Balance=C0*(1+i/12)**k_+Abono*((1+i/12)**k_-1)/(i/12)\n",
    "df['Balance']=Balance\n",
    "df"
   ]
  }
 ],
 "metadata": {
  "kernelspec": {
   "display_name": "Python 3",
   "language": "python",
   "name": "python3"
  },
  "language_info": {
   "codemirror_mode": {
    "name": "ipython",
    "version": 3
   },
   "file_extension": ".py",
   "mimetype": "text/x-python",
   "name": "python",
   "nbconvert_exporter": "python",
   "pygments_lexer": "ipython3",
   "version": "3.7.3"
  }
 },
 "nbformat": 4,
 "nbformat_minor": 2
}
